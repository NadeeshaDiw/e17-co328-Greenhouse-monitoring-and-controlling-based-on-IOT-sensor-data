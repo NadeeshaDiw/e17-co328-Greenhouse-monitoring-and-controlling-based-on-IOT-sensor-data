{
 "cells": [
  {
   "cell_type": "code",
   "execution_count": 1,
   "metadata": {
    "collapsed": true
   },
   "outputs": [],
   "source": [
    "# importing the requests library\n",
    "import requests\n",
    "import datetime\n",
    "import csv"
   ]
  },
  {
   "cell_type": "code",
   "execution_count": 2,
   "outputs": [
    {
     "name": "stdout",
     "output_type": "stream",
     "text": [
      "92\n"
     ]
    }
   ],
   "source": [
    "#calculate time duration\n",
    "d0 = datetime.datetime(2020, 10, 12)\n",
    "d1 = datetime.datetime(2021, 1, 12)\n",
    "delta = d1 - d0\n",
    "print(delta.days)"
   ],
   "metadata": {
    "collapsed": false,
    "pycharm": {
     "name": "#%%\n"
    }
   }
  },
  {
   "cell_type": "code",
   "execution_count": 9,
   "outputs": [],
   "source": [
    "def Control_data_to_csv(file_name,contoler):\n",
    "\n",
    "    file_name=file_name\n",
    "    d_start = datetime.datetime(2020, 10, 12)\n",
    "    trial = 2\n",
    "\n",
    "    header = ['controller', 'value', 'date','time']\n",
    "    with open(file_name, 'w', encoding='UTF8', newline='') as f:\n",
    "        writer = csv.writer(f)\n",
    "        writer.writerow(header)\n",
    "\n",
    "        for j in range(92):\n",
    "            URL_data = f\"http://agbc-fe.pdn.ac.lk/api/v1/control/?date={d_start.date()}\"\n",
    "            d_start += datetime.timedelta(days=1)\n",
    "            # sending get request and saving the response as response object\n",
    "            r = requests.get(url = URL_data)\n",
    "\n",
    "            data = r.json()\n",
    "\n",
    "            l= len(data['data'])\n",
    "\n",
    "\n",
    "\n",
    "\n",
    "            Data_array = [None] * 4\n",
    "            for i in range(l):\n",
    "                if(data['data'][i]['controller']==contoler):\n",
    "                    Data_array[0]= data['data'][i]['controller']\n",
    "                    Data_array[1]= data['data'][i]['value']\n",
    "                    t=data['data'][i]['time'].split(\" \")\n",
    "                    Data_array[2]= t[0]\n",
    "                    Data_array[3]= t[1]\n",
    "\n",
    "                writer.writerow(Data_array)\n",
    "        # write the data\n",
    "        # writer.writerow(Data_array)"
   ],
   "metadata": {
    "collapsed": false,
    "pycharm": {
     "name": "#%%\n"
    }
   }
  },
  {
   "cell_type": "code",
   "execution_count": 10,
   "outputs": [],
   "source": [
    "Control_data_to_csv(\"blower_data.csv\",\"BLOWER\")\n",
    "Control_data_to_csv(\"mist_data.csv\",\"MIST\")"
   ],
   "metadata": {
    "collapsed": false,
    "pycharm": {
     "name": "#%%\n"
    }
   }
  },
  {
   "cell_type": "code",
   "execution_count": null,
   "outputs": [],
   "source": [],
   "metadata": {
    "collapsed": false,
    "pycharm": {
     "name": "#%%\n"
    }
   }
  }
 ],
 "metadata": {
  "kernelspec": {
   "display_name": "Python 3",
   "language": "python",
   "name": "python3"
  },
  "language_info": {
   "codemirror_mode": {
    "name": "ipython",
    "version": 2
   },
   "file_extension": ".py",
   "mimetype": "text/x-python",
   "name": "python",
   "nbconvert_exporter": "python",
   "pygments_lexer": "ipython2",
   "version": "2.7.6"
  }
 },
 "nbformat": 4,
 "nbformat_minor": 0
}